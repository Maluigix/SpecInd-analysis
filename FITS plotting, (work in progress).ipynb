{
 "cells": [
  {
   "cell_type": "code",
   "execution_count": 251,
   "metadata": {},
   "outputs": [],
   "source": [
    "# Load basic libraries that you will almost certainly use. You may need others.\n",
    "%matplotlib inline\n",
    "from __future__ import print_function\n",
    "import matplotlib.pyplot as plt\n",
    "import matplotlib.gridspec as gridspec\n",
    "import numpy as np\n",
    "from scipy.optimize import curve_fit\n",
    "from astropy.io import fits\n",
    "import pandas as pd\n",
    "from astropy.utils.data import download_file\n",
    "import statistics\n",
    "from scipy.stats import powerlaw\n",
    "from scipy.stats import iqr\n",
    "import operator \n",
    "np.set_printoptions(threshold=np.nan)"
   ]
  },
  {
   "cell_type": "code",
   "execution_count": 252,
   "metadata": {},
   "outputs": [],
   "source": [
    "# Set up for plotting. All these settings just help to produce \"nicer\" looking plots, but you don't need to use them per se.\n",
    "bfsize=22\n",
    "plt.rcParams['figure.figsize'] = (8,5.5)\n",
    "plt.rcParams['axes.linewidth'] = 1.5\n",
    "plt.rcParams['axes.labelsize'] = bfsize\n",
    "plt.rcParams['axes.labelpad'] = 1.0\n",
    "plt.rcParams['axes.labelweight'] = 540 # 400 is normal, 700 is bold\n",
    "plt.rcParams['xtick.major.width'] = 1.4\n",
    "plt.rcParams['ytick.major.width'] = 1.4\n",
    "plt.rcParams['xtick.major.size'] = 0.3*bfsize\n",
    "plt.rcParams['ytick.major.size'] = 0.3*bfsize\n",
    "plt.rcParams['xtick.minor.width'] = 1.0\n",
    "plt.rcParams['ytick.minor.width'] = 1.0\n",
    "plt.rcParams['xtick.minor.size'] = 0.13*bfsize\n",
    "plt.rcParams['ytick.minor.size'] = 0.13*bfsize\n",
    "plt.rcParams['xtick.labelsize'] = 0.8*bfsize\n",
    "plt.rcParams['ytick.labelsize'] = 0.8*bfsize\n",
    "plt.rcParams['xtick.major.pad'] = 0.155*bfsize\n",
    "plt.rcParams['ytick.major.pad'] = 0.155*bfsize\n",
    "plt.rcParams['xtick.minor.pad'] = 0.155*bfsize\n",
    "plt.rcParams['ytick.minor.pad'] = 0.155*bfsize\n",
    "plt.rcParams['xtick.direction'] = 'in'\n",
    "plt.rcParams['ytick.direction'] = 'in'\n",
    "plt.rcParams['xtick.top'] = 'True'\n",
    "plt.rcParams['ytick.right'] = 'True'\n",
    "plt.rcParams['legend.numpoints'] = 1\n",
    "plt.rcParams['legend.scatterpoints'] = 1\n",
    "plt.rcParams['legend.fancybox'] = 'True'\n",
    "plt.rcParams['legend.fontsize'] = 0.9*bfsize\n",
    "plt.rcParams['legend.labelspacing'] = 0.25\n",
    "plt.rcParams['legend.handletextpad'] = 0.35\n",
    "plt.rcParams['legend.borderpad'] = 0.25\n",
    "plt.rcParams['legend.borderaxespad'] = 0.6\n",
    "plt.rcParams['legend.columnspacing'] = 0.2\n",
    "plt.rcParams['legend.frameon'] = 'False'\n",
    "plt.rcParams['legend.edgecolor'] = 'black'"
   ]
  },
  {
   "cell_type": "code",
   "execution_count": 253,
   "metadata": {},
   "outputs": [],
   "source": [
    "# Example function to read in an old SDSS spectrum FITS file\n",
    "def rSDSSFITS(FITSfile):\n",
    "    with fits.open(FITSfile) as hdulist:\n",
    "        h0=hdulist[0].header\n",
    "        h1=hdulist[1].header\n",
    "        d1=hdulist[1].data\n",
    "        n=d1.shape[-1]\n",
    "        lw=d1['loglam']\n",
    "        wl=np.power(10.0,lw)\n",
    "        ivar=d1['ivar']\n",
    "        #[-np.inf if x<=0 else x for x in ivar]\n",
    "        #sig=np.reciprocal(np.sqrt(ivar)) \n",
    "        #'sig':sig,\n",
    "        er=ivar\n",
    "    return {'wl':wl,'lw':lw,'fl':d1['flux'],'er':d1[2],'ivar':ivar,'h0':h0,'h1':h1}"
   ]
  },
  {
   "cell_type": "code",
   "execution_count": 254,
   "metadata": {},
   "outputs": [],
   "source": [
    "FITSfile='spec-4619-55599-0246.fits'\n",
    "s=rSDSSFITS(FITSfile)"
   ]
  },
  {
   "cell_type": "code",
   "execution_count": 422,
   "metadata": {
    "scrolled": true
   },
   "outputs": [
    {
     "data": {
      "image/png": "[encoded data removed]",
      "text/plain": [
       "<Figure size 360x216 with 1 Axes>"
      ]
     },
     "metadata": {},
     "output_type": "display_data"
    }
   ],
   "source": [
    "fig=plt.figure(figsize=(5.0,3.0))\n",
    "#simplifies the plotting\n",
    "x=s['wl']\n",
    "y=np.array(s['fl'])\n",
    "#attempt to make the calculations of spec index easier later\n",
    "a = np.array(x)\n",
    "b = np.array(y)\n",
    "xy=np.column_stack((a,b))\n",
    "#redshift of current QSO, change with each or later make reference\n",
    "z=3.220472\n",
    "z1=z+1\n",
    "#converts the observed wavelengths to the rest frame \n",
    "xr=x/(1+z)\n",
    "# spectral regions in rest frame wavelengths\n",
    "#[1276,1292],[1314,1328],[1345,1362],[1435,1465],[1684,1700]\n",
    "\n",
    "\n",
    "# Good colour matches for the colourblind\n",
    "myc={'violet':'#6E36BB','blue':'#2480D0','cyan':'#00E6E6','green':'#44AA99',\n",
    "     'orange':'#EC9800','red':'#A00620','black':'#000000'}\n",
    "ax1 = fig.add_subplot(111)\n",
    "ax2 = ax1.twiny()\n",
    "ax1=plt.subplot2grid((1,1),(0,0),rowspan=1,colspan=1)\n",
    "xmin1,xmax1=s['wl'][0],s['wl'][-1]\n",
    "xrng=xmax1-xmin1\n",
    "#xmin2,xmax2\n",
    "ymax1=18\n",
    "ymin1=-5\n",
    "yrng=ymax-ymin\n",
    "#ax1.hlines([0.0,1.0],xmin,xmax,colors=myc['red'],linestyles=[':','--'],linewidths=2.0)\n",
    "ax1.step(x,y,where='mid',lw=.7,color=myc['black'],alpha=0.9,rasterized=True)\n",
    "ax1.set_ylabel(r'Flux',ha='center',va='bottom',fontsize=bfsize)\n",
    "ax1.set_xlabel(r'Wavelength ($\\AA$)',ha='center',va='bottom',fontsize=bfsize,labelpad=30)\n",
    "#search label padding\n",
    "#ax1.annotate(r'Huggins O$_3$',xy=(0.75,0.45),xycoords='axes fraction',color='black',\n",
    "#             ha='center',va='center',fontsize=0.9*bfsize)\n",
    "ax1.set_xlim(xmin1,9000)\n",
    "ax1.set_ylim(ymin1,ymax)\n",
    "#ax1.xaxis.set_minor_locator(AutoMinorLocator(5))\n",
    "#Fix so that axis 2 is displayed\n",
    "ax2.step(xr,y,where='mid',lw=.7,color=myc['black'],alpha=0.9,rasterized=True)\n",
    "ax2.set_xlabel(r'Rest Wavelength ($\\AA$)',ha='center',va='bottom',fontsize=bfsize,labelpad=30)\n",
    "ax2.spines['top'].set_position(('outward', 36))\n",
    "plt.show()\n",
    "fig.subplots_adjust(left=0.05,right=0.99,bottom=0.10,top=0.99,wspace=0,hspace=0)\n",
    "fig.tight_layout()\n",
    "# Export to PDF\n",
    "#plt.savefig('DR1_cosmic.pdf',bbox_inches='tight',pad_inches=0.05)\n"
   ]
  },
  {
   "cell_type": "code",
   "execution_count": 470,
   "metadata": {
    "scrolled": false
   },
   "outputs": [
    {
     "data": {
      "text/plain": [
       "[4.4181213, 4.199759, 4.0613756, 3.6291542, 3.1848962]"
      ]
     },
     "execution_count": 470,
     "metadata": {},
     "output_type": "execute_result"
    }
   ],
   "source": [
    "#spectral bands in rest wavelengths converted to obs [upper,lower]\n",
    "obspreg=np.array(([5385.32227,5452.849824],[5545.700208,5604.786816],[5676.53484,5748.282864],[6056.37732,6182.99148],[7107.274848,7174.8024]))\n",
    "#The median values of the 5 spectral regions,the same for all quasar spectra (observed wavelength)\n",
    "medspreg=[5419.086047, 5575.243512, 5712.4088520000005, 6119.6844, 7141.038624]\n",
    "\n",
    "#spectral bands in observed wavelengths\n",
    "fval=[]\n",
    "for i in range(0,5):\n",
    "    g1=y[(x>=ospre[i][0]) & (x<=ospre[i][1])]\n",
    "    fval.append(g1)\n",
    "#interquartile values for flux\n",
    "iqrval=[]\n",
    "for i in range(0,5):\n",
    "    g2=iqr(fval[i],rng=(25,75))\n",
    "    iqrval.append(g2)\n",
    "#median values for flux    \n",
    "fmed=[]\n",
    "for i in range(0,5):\n",
    "    g3=np.median(fval[i])\n",
    "    fmed.append(g3)"
   ]
  },
  {
   "cell_type": "code",
   "execution_count": 480,
   "metadata": {},
   "outputs": [
    {
     "data": {
      "image/png": "[encoded data removed]",
      "text/plain": [
       "<Figure size 720x360 with 1 Axes>"
      ]
     },
     "metadata": {},
     "output_type": "display_data"
    }
   ],
   "source": [
    "def func_powerlaw(lam, m, c):\n",
    "    return c*lam**m\n",
    "\n",
    "X=medspreg\n",
    "Y=fmed\n",
    "\n",
    "popt, pcov = curve_fit(func_powerlaw,X,Y,sigma=iqrval)\n",
    "\n",
    "plt.figure(figsize=(10, 5))\n",
    "plt.plot(X, target_func(X, *popt), '--')\n",
    "plt.plot(X, Y, 'ro')\n",
    "plt.show()"
   ]
  },
  {
   "cell_type": "code",
   "execution_count": 475,
   "metadata": {},
   "outputs": [
    {
     "data": {
      "text/plain": [
       "array([-1.16042210e+00,  9.35931354e+04])"
      ]
     },
     "execution_count": 475,
     "metadata": {},
     "output_type": "execute_result"
    }
   ],
   "source": [
    "popt"
   ]
  },
  {
   "cell_type": "code",
   "execution_count": 476,
   "metadata": {},
   "outputs": [
    {
     "data": {
      "text/plain": [
       "array([[ 8.42462844e-03, -6.87217239e+03],\n",
       "       [-6.87217239e+03,  5.60677535e+09]])"
      ]
     },
     "execution_count": 476,
     "metadata": {},
     "output_type": "execute_result"
    }
   ],
   "source": [
    "pcov"
   ]
  },
  {
   "cell_type": "code",
   "execution_count": null,
   "metadata": {},
   "outputs": [],
   "source": []
  }
 ],
 "metadata": {
  "kernelspec": {
   "display_name": "Python 3",
   "language": "python",
   "name": "python3"
  },
  "language_info": {
   "codemirror_mode": {
    "name": "ipython",
    "version": 3
   },
   "file_extension": ".py",
   "mimetype": "text/x-python",
   "name": "python",
   "nbconvert_exporter": "python",
   "pygments_lexer": "ipython3",
   "version": "3.6.6"
  }
 },
 "nbformat": 4,
 "nbformat_minor": 2
}
